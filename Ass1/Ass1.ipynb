{
 "cells": [
  {
   "cell_type": "markdown",
   "metadata": {},
   "source": [
    "# Assignment1"
   ]
  },
  {
   "cell_type": "markdown",
   "metadata": {},
   "source": [
    "HengCheng Zhang\n",
    "\n",
    "u7096187"
   ]
  },
  {
   "cell_type": "markdown",
   "metadata": {},
   "source": [
    "## 1. Sets"
   ]
  },
  {
   "cell_type": "markdown",
   "metadata": {},
   "source": [
    "(a) A $\\cap$ B = [0,1)\n",
    "\n",
    "(b) A $\\cup$ B = [-1,3]\n",
    "\n",
    "(c) A $\\cap$ C = [-1,0]\n",
    "\n",
    "(d) A $\\cup$ C = [-1,1)\n",
    "\n",
    "(e) B $\\cap$ C = {0}\n",
    "\n",
    "(f) B $\\cup$ C = [-1,3]\n",
    "\n",
    "(g) A $\\times$ B = { (x,y) | a $\\in$ [-1,1) , y $\\in$ [0,3] }\n",
    "\n",
    "(h) sup(A \\ B) = 0\n",
    "\n",
    "(i) inf(A $\\cap$ $\\mathbb{R}$) = -1\n",
    "\n",
    "(j) sup($\\mathbb{R}$ \\ B) = $\\infty$"
   ]
  },
  {
   "cell_type": "markdown",
   "metadata": {},
   "source": [
    "## 2. Diagonal matrices"
   ]
  },
  {
   "cell_type": "markdown",
   "metadata": {},
   "source": [
    "(a) \n",
    "\n",
    "for $y \\in \\mathbb{R}^n$\n",
    "$y_{1} = \\sum_{i=1}^n D_{1,i} \\cdot x_i\\\\\n",
    "y_{2} = \\sum_{i=1}^n D_{2,i} \\cdot x_i\\\\\n",
    "\\vdots\\\\\n",
    "y_{n} = \\sum_{i=1}^n D_{n,i} \\cdot x_i\\\\\n",
    "$\n",
    "\n",
    "Since D is a diagonal matrix, for all $i \\neq j, D_{i,j} = 0$\n",
    "\n",
    "$\\therefore y_{1} = D_{1,1} \\cdot x_1\\\\\n",
    "y_{2} = D_{2,2} \\cdot x_2\\\\\n",
    "\\vdots\\\\\n",
    "y_{n} = D_{n,n} \\cdot x_n\\\\$\n",
    "\n",
    "$\\therefore$ By changing n for $D \\in \\mathbb{R}^{n\\times n}$ , the cost of computing each element in y won't be affected.\n",
    "\n",
    "Since $y \\in \\mathbb{R}^n$, the change of n will affect the size of y which will leads to a linear change in time complexity.\n",
    "\n",
    "$\\therefore$ The cost of cumputing y = Dx is O(n)\n"
   ]
  },
  {
   "cell_type": "markdown",
   "metadata": {},
   "source": [
    "(b)\n",
    "\n",
    "$(D \\cdot A)_{ij} = \\sum_{k=1}^n D_{i,k} \\cdot A_{k,j} = D_{i,i} \\cdot A_{i,j}\\\\\n",
    "(A \\cdot D)_{ij} = \\sum_{k=1}^n A_{i,k} \\cdot D_{k,j} = A_{i,j} \\cdot D_{j,j}\\\\$\n",
    "\n",
    "$\\therefore$ As long as $D_{i,i} \\neq D_{j,j}$, $DA \\neq AD$\n",
    "\n",
    "An counter example is for \n",
    "\n",
    "$D = \\begin{bmatrix} 1 & 0\\\\ 0 & 2\\end{bmatrix} \\text{, } A = \\begin{bmatrix} 1 & 1\\\\ 2 & 2\\end{bmatrix}$\n",
    "\n",
    "$D \\cdot A = \\begin{bmatrix} 1 & 1\\\\ 4 & 4\\end{bmatrix} \\neq A \\cdot D = \\begin{bmatrix} 1 & 2\\\\ 2 & 4\\end{bmatrix}$"
   ]
  },
  {
   "cell_type": "markdown",
   "metadata": {},
   "source": [
    "(c)\n",
    "\n",
    "$det(D) = \\sum_\\sigma sgn(\\sigma) \\prod_{i=1}^{n}D_{i,\\sigma (i)}\\\\$\n",
    "\n",
    "$\\prod_{i=1}^nD_{i,\\sigma (i)} =\\begin{cases}\n",
    "\\prod_{i=1}^nD_{i,\\sigma (i)} & \\text{for } \\sigma = (1,2,3,\\cdots,n)\\\\\n",
    "0 & \\text{for the rest permutation of }  \\sigma\\\\\n",
    "\\end{cases}\\\\$\n",
    "\n",
    "$\\text{Because for all the subdiagonals of D, all the elements are 0. Therefore the product of them will also be 0}$"
   ]
  },
  {
   "cell_type": "markdown",
   "metadata": {},
   "source": [
    "(d)\n",
    "\n",
    "When the diagonal elements of D are all positive."
   ]
  },
  {
   "cell_type": "markdown",
   "metadata": {},
   "source": [
    "## 3. Triangular matrices "
   ]
  },
  {
   "cell_type": "markdown",
   "metadata": {},
   "source": [
    "From 2(c) we know that for a diagonal matrix D $\\in \\mathbb{R}^{n\\times n}$, \n",
    "det(D) = $\\prod_{i=1}^n D_{i,i} $\n",
    "\n",
    "Similarly, for a triangular matrix A, there always has zero element in each product of subdiagonals.\n",
    "\n",
    "Therefore $det(A) = \\prod_{i=1}^n D_{i,i}$\n",
    "\n",
    "For eigenvalues $\\lambda$, $det(A-\\lambda I) = 0 = \\prod_{i=1}^n(A_{i,i}-\\lambda)$\n",
    "\n",
    "$\\therefore \\lambda = A_{i,i}$  \n",
    "\n",
    "$\\therefore$ the eigenvalues of a triangular matrix equal to its diagonal elements\n"
   ]
  },
  {
   "cell_type": "markdown",
   "metadata": {},
   "source": [
    "Since A needs to be non-singular if it is invertible.\n",
    "\n",
    "Therefore $det(A) \\neq 0$.\n",
    "\n",
    "Thus all eigenvalues needs to be positive for non-negative determinant.\n",
    "\n",
    "$\\therefore$ A needs to be a positive difinite trianglular matrix when its invertible."
   ]
  },
  {
   "cell_type": "markdown",
   "metadata": {},
   "source": [
    "## 4. Determinant of a transpose"
   ]
  },
  {
   "cell_type": "markdown",
   "metadata": {},
   "source": [
    "Let $A \\in \\mathbb{R}^{n*n}$\n",
    "\n",
    "For n = 1\n",
    "\n",
    "$det(A) = A_{1,1} = det(A^T)$\n",
    "\n",
    "Assume $det(A^T) = det(A)$ when n = k\n",
    "\n",
    "For n = k+1, let $A_{11}$ denotes the matrix A without the row and column that contains $A_{1,1}$\n",
    "$det(A) = A_{1,1} \\cdot det(A_{11}) - A_{1,2} \\cdot det(A_{12}) + \n",
    "\\cdots + (-1)^{k+2}\\cdot A_{1,k+1} \\cdot det(A_{1(k+1)})$\n",
    "\n",
    "$\\begin{aligned}det(A^T) &= A_{1,1}^T \\cdot det(A_{11}^T) - A_{2,1}^T \\cdot det(A_{21}^T) + \n",
    "\\cdots + (-1)^{k+2}\\cdot A_{k+1,1}^T \\cdot det(A_{(k+1)1}^T)\\\\\n",
    "&= A_{1,1} \\cdot det(A_{11}^T) - A_{1,2} \\cdot det(A_{21}^T) + \n",
    "\\cdots + (-1)^{k+2}\\cdot A_{1,k+1} \\cdot det(A_{(k+1)1}^T)\n",
    "\\end{aligned}$\n",
    "\n",
    "Since for $A \\in \\mathbb{R}^{k*k} det(A) = det(A^T)$\n",
    "\n",
    "$\\therefore$ $det(A_{ij}^T) = det(A_{ji}) \\text{ for } i,j = 0,1,2,\\cdots,k\\\\$\n",
    "\n",
    "$\\therefore \\text{ for } n = k + 1, det(A) = det(A^T)\\\\$\n",
    "\n",
    "$\\therefore \\text{ for any square matrix A, } det(A) = det(A^T)$ "
   ]
  },
  {
   "cell_type": "markdown",
   "metadata": {},
   "source": [
    "## 5. Cauchy-Schwarz inequality"
   ]
  },
  {
   "cell_type": "markdown",
   "metadata": {},
   "source": [
    "Since x $\\in$ $\\mathbb{R}^n$ \n",
    "\n",
    "let y $\\in$ $\\mathbb{R}^n$ = (1,1,1,...,1), where $\\lVert y\\rVert _{2}=\\sqrt n$\n",
    "\n",
    "from the Cauchy-Schwarz inequality we can get $|x^T y| \\leq \\lVert x\\rVert _{2}\\lVert y\\rVert _{2}$\n",
    "\n",
    "since $y_{i} = 1$ for $i = 1,2,3,...,n $\n",
    "\n",
    "$x^T y=\\sum_{i=1}^n x_{i}\\cdot y_{i}=\\sum_{i=1}^n x_{i}=1$\n",
    "\n",
    "$\\therefore 1 \\leq \\lVert x\\rVert _{2}\\cdot\\sqrt n$\n",
    "\n",
    "$\\therefore \\lVert x\\rVert _{2}\\geq\\frac{1}{\\sqrt n}$"
   ]
  },
  {
   "cell_type": "markdown",
   "metadata": {},
   "source": [
    "The lower bound doesn't change as the only assumption made is $\\sum_{i=1}^n x_{i}=1$ and there's no restriction on whether x should be non-negative or not."
   ]
  },
  {
   "cell_type": "markdown",
   "metadata": {},
   "source": [
    "## 6. Least-squares"
   ]
  },
  {
   "cell_type": "code",
   "execution_count": 36,
   "metadata": {},
   "outputs": [],
   "source": [
    "import numpy as np\n"
   ]
  },
  {
   "cell_type": "code",
   "execution_count": 37,
   "metadata": {},
   "outputs": [
    {
     "name": "stdout",
     "output_type": "stream",
     "text": [
      "[0.14950635 0.06770099]\n"
     ]
    }
   ],
   "source": [
    "A = np.array([[8, 4], [6, 6], [5, 8], [0, 0]])\n",
    "B = np.array([2, 0, 2, 2]).T\n",
    "sol = np.linalg.inv(A.T@A)@A.T@B\n",
    "print(sol)\n"
   ]
  },
  {
   "cell_type": "markdown",
   "metadata": {},
   "source": [
    "## 7. Gradients"
   ]
  },
  {
   "cell_type": "markdown",
   "metadata": {},
   "source": [
    "(a) $f(x) = \\alpha^T x+b$\n",
    "\n",
    "$\\begin{aligned}\n",
    "\\nabla _{x}f(x) &= \\lim_{h \\to 0} \\frac{f(x+h)-f(x)}{h}\\\\\n",
    "&=\\lim_{h \\to 0} \\frac{\\alpha^T(x+h)+b-(\\alpha^T x+b)}{h}\\\\\n",
    "&=\\lim_{h \\to 0} \\frac{\\alpha^T h}{h}\\\\\n",
    "&=\\alpha^T\\\\\n",
    "&=\\alpha\n",
    "\\end{aligned}$"
   ]
  },
  {
   "cell_type": "markdown",
   "metadata": {},
   "source": [
    "(b) $f(x) = \\frac{1}{2}x^T Px+q^Tx+r$\n",
    "\n",
    "$\\begin{aligned}\n",
    "\\nabla _{x}f(x) &= \\lim_{h \\to 0} \\frac{f(x+h)-f(x)}{h}\\\\\n",
    "&=\\lim_{h \\to 0} \\frac{\\frac{1}{2}(x+h)^TP(x+h)+q^T(x+h)+r-(\\frac{1}{2}x^T Px+q^Tx+r)}{h}\\\\\n",
    "&=\\lim_{h \\to 0} \\frac{\\frac{1}{2}(x^TPx+x^TPh+h^TPx+h^TPh)+q^Th-(\\frac{1}{2}x^TPx)}{h}\\\\\n",
    "&=\\lim_{h \\to 0} \\frac{\\frac{1}{2}x^TPh+\\frac{1}{2}h^TPx+\\frac{1}{2}h^TPh+q^Th}{h}\\\\\n",
    "&=\\lim_{h \\to 0} (\\frac{1}{2}x^TP+\\frac{1}{2}h^TP+q^T+\\frac{\\frac{1}{2}(Px)^Th}{h})\\\\\n",
    "&=\\frac{1}{2}P^Tx+q^T+\\frac{1}{2}Px\\\\\n",
    "&=\\frac{1}{2}(P+P^T)x+q\n",
    "\\end{aligned}$"
   ]
  },
  {
   "cell_type": "markdown",
   "metadata": {},
   "source": [
    "(c) $f(x) = \\frac{1}{2}x^TPx$ with $P = P^T$\n",
    "\n",
    "$\\begin{aligned}\n",
    "\\nabla _{x}f(x) &= \\lim_{h \\to 0} \\frac{f(x+h)-f(x)}{h}\\\\\n",
    "&= \\lim_{h \\to 0} \\frac{\\frac{1}{2}(x+h)^TP(x+h)-(\\frac{1}{2}x^TPx)}{h}\\\\\n",
    "&= \\lim_{h \\to 0} \\frac{\\frac{1}{2}(x^TPx+x^TPh+h^TPx+h^TPh-x^TPx)}{h}\\\\\n",
    "&= \\lim_{h \\to 0} (\\frac{1}{2}x^TP + \\frac{1}{2}h^TP + \\frac{(Px)^Th}{2h})\\\\\n",
    "&= \\frac{1}{2}P^Tx + \\frac{1}{2}Px\\\\\n",
    "&= Px\n",
    "\\end{aligned}$"
   ]
  },
  {
   "cell_type": "markdown",
   "metadata": {},
   "source": [
    "(d) $f(x) = (a^Tx-b)(c^Tx-d)$\n",
    "\n",
    "$\\begin{aligned}\n",
    "\\nabla _{x}f(x) &= \\lim_{h \\to 0} \\frac{(a^T(x+h)-b)(c^T(x+h)-d)-(a^Tx-b)(c^Tx-d)}{h}\\\\\n",
    "&= \\lim_{h \\to 0} \\frac{(a^Tx-b+a^Th)(c^Tx-d+c^Th) - (a^Tx-b)(c^Tx-d)}{h}\\\\\n",
    "&= \\lim_{h \\to 0} \\frac{(a^Tx-b)(c^Tx-d) + (a^Tx-b)c^Th + a^Th(c^Tx-d+c^Th) - (a^Tx-b)(c^Tx-d)}{h}\\\\\n",
    "&= \\lim_{h \\to 0} \\left( (a^Tx-b)c^T + \\frac{a^Thc^Tx-a^Thd+a^Thc^Th}{h}\\right)\\\\\n",
    "\\end{aligned}$\n",
    "\n",
    "Since both d and $c^Tx \\in \\mathbb{R}$ , we can move them to the front\n",
    "\n",
    "$\\begin{aligned}\n",
    "\\nabla _{x}f(x) &= \\lim_{h \\to 0} \\left( (a^Tx-b)c^T + \\frac{(c^Tx)\\cdot a^Th-d\\cdot a^Th+a^Thc^Th}{h}\\right)\\\\\n",
    "&= \\lim_{h \\to 0} \\left( (a^Tx-b)c^T + (c^Tx)\\cdot a^T-d\\cdot a^T+a^Thc^T\\right)\\\\\n",
    "&= 2a^Txc^T - bc^T -da^T\n",
    "\\end{aligned}$"
   ]
  },
  {
   "cell_type": "markdown",
   "metadata": {},
   "source": [
    "(e) $f(x) = \\frac{1}{1+exp(-g(x))}$\n",
    "\n",
    "$\\begin{aligned}\n",
    "\\nabla _{x}f(x) &= -\\frac{\\frac{\\partial (1+e^{-g(x)})}{\\partial x}}{(1+e^{-g(x)})^2}\\\\\n",
    "&= -\\frac{e^{-g(x)}\\cdot \\frac{\\partial -g(x)}{\\partial x}}{(1+e^{-g(x)})^2}\\\\\n",
    "&= \\frac{e^{-g(x)}\\cdot \\nabla _{x}g(x)}{(1+e^{-g(x)})^2}\\\\\n",
    "&= f(x)\\cdot (1-f(x))\\cdot \\nabla _{x}g(x)\n",
    "\\end{aligned}$"
   ]
  },
  {
   "cell_type": "markdown",
   "metadata": {},
   "source": [
    "## 8. Trace"
   ]
  },
  {
   "cell_type": "markdown",
   "metadata": {},
   "source": [
    "$(X^TY)_{i,j} = \\sum_{k=1}^mX_{ki}Y_{kj}\\\\$\n",
    "\n",
    "$\\begin{aligned}\n",
    "tr(X^TY) &= \\sum_{i=1}^n(X^TY)_{i,i}\\\\\n",
    "&= \\sum_{i=1}^n\\sum_{j=1}^mX_{ji}Y_{ji}\\\\\n",
    "\\end{aligned}$\n",
    "\n",
    "$\\therefore$ The trace of $X^TY$ is the sum of the dot products of each column of X and Y, which is equivelent to considering X and Y as a large matrix $\\in \\mathbb{R}^{(m*n)*1}$ that connects all of their columns together respectively.\n",
    "\n",
    "Like $X' = \\begin{bmatrix}X_{11}&X_{21}&\\cdots&X_{m1}&X_{12}&X_{22}&\\cdots&X_{m2}&\\cdots&X_{mn}\\end{bmatrix}$\n",
    "\n",
    "Since $tr(X^TY)$ can be considered as a large dot prodcut, it is also an inner product itself."
   ]
  },
  {
   "cell_type": "markdown",
   "metadata": {},
   "source": [
    "## 9. Anti-symmetric matrix"
   ]
  },
  {
   "cell_type": "markdown",
   "metadata": {},
   "source": [
    "$\\begin{aligned}\n",
    "x^TAx &= (x^TAx)^T\\\\ &= x^TA^Tx\\\\ &= -x^TAx\\\\\n",
    "\\end{aligned}$\n",
    "\n",
    "$\\therefore 2x^TAx = 0\\\\\n",
    "\\therefore x^TAx = 0$"
   ]
  },
  {
   "cell_type": "markdown",
   "metadata": {},
   "source": [
    "$\\begin{aligned}\n",
    "\\frac{1}{2}x^T(B+B^T)x &= xTBx\\\\\n",
    "xTBx - \\frac{1}{2}x^T(B+B^T)x &= 0\\\\\n",
    "x^T(B-B^T)x &= 0\\\\\n",
    "\\end{aligned}$\n",
    "\n",
    "$\\text{since for any matrix B }\\in \\mathbb{R}^{n\\times n} B - B^T \\text{ is anti-symmetric}\\\\\n",
    "\\text{and for an anti-symmetric matrix A we have }x^TAx = 0\\\\\n",
    "\\therefore x^T(B+B^T)x = 0\\\\\n",
    "\\therefore \\frac{1}{2}x^T(B+B^T)x = x^TBx$"
   ]
  },
  {
   "cell_type": "markdown",
   "metadata": {},
   "source": [
    "## 10. Maximum entropy"
   ]
  },
  {
   "cell_type": "markdown",
   "metadata": {},
   "source": [
    "(a)\n",
    "\n",
    "Since $1^Tx = 1\\\\$\n",
    "$\\therefore\\sum_{i=1}^nx_i = 1$\n",
    "$\\therefore x_n = 1 - \\sum_{i=1}^{n-1}x_i$"
   ]
  },
  {
   "cell_type": "markdown",
   "metadata": {},
   "source": [
    "(b)\n",
    "\n",
    "$\\begin{aligned}\\sum_{i=1}^nx_i\\log_{x_i} &= \\sum_{i=1}^{n-1}x_i\\log{x_i} + \n",
    "(1-\\sum_{i=1}^{n-1}x_i)\\log{(1-\\sum_{i=1}^{n-1}x_i)}\n",
    "\\end{aligned}$"
   ]
  },
  {
   "cell_type": "markdown",
   "metadata": {},
   "source": [
    "(c)\n",
    "\n",
    "$\\begin{aligned}\\nabla_{x_i}\\left(\\sum_{i=1}^nx_i\\log_{x_i}\\right) &= 1 + \\log x_i + \\frac{1}{1-\\sum_{i=1}^{n-1}x_i}-\n",
    "\\left(\\log{(1-\\sum_{i=1}^{n-1}x_i)}+\\sum_{i=1}^{n-1}x_i \\times \\frac{-1}{1-\\sum_{i=1}^{n-1}x_i}\\right)\\\\\n",
    "&= 1 + \\log x_i -\\log{(1-\\sum_{i=1}^{n-1}x_i)} -1\\\\\n",
    "&= \\log \\frac{x_i}{1-\\sum_{i=1}^{n-1}x_i} = 0\n",
    "\\end{aligned}$\n",
    "\n",
    "$\\therefore\\frac{x_i}{1-\\sum_{i=1}^{n-1}x_i} = 1\\\\$\n",
    "\n",
    "$\\therefore \\text{for any i = 0,1,}\\cdots\\text{,n, }\\\\\n",
    " x_i = 1-\\sum_{i=1}^{n-1}x_i = x_n$\n",
    "\n",
    "$\\therefore \\sum_{i=1}^nx_i = n\\times x_n = 1$\n",
    "\n",
    "$\\therefore x_i = \\frac{1}{n}$"
   ]
  }
 ],
 "metadata": {
  "interpreter": {
   "hash": "aee8b7b246df8f9039afb4144a1f6fd8d2ca17a180786b69acc140d282b71a49"
  },
  "kernelspec": {
   "display_name": "Python 3",
   "language": "python",
   "name": "python3"
  },
  "language_info": {
   "codemirror_mode": {
    "name": "ipython",
    "version": 3
   },
   "file_extension": ".py",
   "mimetype": "text/x-python",
   "name": "python",
   "nbconvert_exporter": "python",
   "pygments_lexer": "ipython3",
   "version": "3.6.6+"
  }
 },
 "nbformat": 4,
 "nbformat_minor": 2
}
