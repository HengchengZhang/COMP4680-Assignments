{
 "cells": [
  {
   "cell_type": "markdown",
   "metadata": {},
   "source": [
    "# Assignment 2"
   ]
  },
  {
   "cell_type": "markdown",
   "metadata": {},
   "source": [
    "Hengcheng Zhang\n",
    "\n",
    "u7096187"
   ]
  },
  {
   "cell_type": "markdown",
   "metadata": {},
   "source": [
    "## 1. Norm Balls"
   ]
  },
  {
   "cell_type": "markdown",
   "metadata": {},
   "source": [
    "(a)\n",
    "\n",
    "For $n = 1, B_p = \\left\\{ x \\in \\mathbb{R} \\mid \\|x-a\\|_p \\leq 1 \\right\\}$,\n",
    "\n",
    "$\\begin{aligned}\\|x-a\\|_p &= (\\sum_{i=1}^n|x_i - a|^p)^{\\frac{1}{p}}\\\\\n",
    "&= (|x - a|^p)^{\\frac{1}{p}}\\\\\n",
    "&= |x - a| \\leq 1\n",
    "\\end{aligned}$\n",
    "\n",
    "$\\therefore$ when n = 1 for any p it always define a line segment $\\left\\{ x \\mid |x - a| \\leq 1 \\right\\}$,\n",
    "\n",
    "which has two end points at $a+1$ and $a-1$."
   ]
  },
  {
   "cell_type": "markdown",
   "metadata": {},
   "source": [
    "(b)\n",
    "\n",
    "When $p = \\infty, B_p = \\left\\{ x \\in \\mathbb{R}^n \\mid \\max(|x_1-a_1|,\\cdots,|x_n-a_n|) \\leq 1 \\right\\}$, \n",
    "\n",
    "Let's assumes that $\\|x-a\\|_{\\infty} = |x_i - a_i|$,\n",
    "\n",
    "$|x_i - a_i| \\leq 1\\\\\n",
    "-1 \\leq x_i - a_i \\leq 1\\\\\n",
    "a_i - 1 \\leq x_i \\leq a_i + 1\n",
    "$\n",
    "\n",
    "We can then rewrite it as $\\begin{bmatrix} -I\\\\ I\\end{bmatrix} x_i \\preccurlyeq \\begin{bmatrix} 1 - a_i\\\\ a_i + 1\\end{bmatrix}$."
   ]
  },
  {
   "cell_type": "markdown",
   "metadata": {},
   "source": [
    "(c)\n",
    "\n",
    "Suppose there are $\\| x_1 - a \\|_p \\leq 1$ and $\\| x_2 - a \\|_p \\leq 1$,\n",
    "\n",
    "The convex combination of $x_1$ and $x_2$ is $\\| \\theta x_1 + (1-\\theta)x_2 - a \\|_p$ with $\\theta \\in (0,1)$,\n",
    "\n",
    "$\\begin{aligned} \\| \\theta x_1 + (1-\\theta)x_2 - a \\|_p &=  \\| \\theta x_1 + (1-\\theta)x_2 - \\theta a - (1-\\theta)a \\|_p\\\\\n",
    "&= \\| \\theta(x_1 - a) + (1-\\theta)(x_2 - a) \\|_p\\\\\n",
    "&\\leq \\theta\\|x_1 - a\\|_p + (1-\\theta)\\|x_2-a\\|_p\\\\\n",
    "&\\leq \\theta \\cdot 1 + (1-\\theta) \\cdot 1 = 1\n",
    "\\end{aligned}$\n",
    "\n",
    "$\\therefore$ the convex combination of $x_1$ and $x_2$ is also convex,\n",
    "\n",
    "$\\therefore B_p$ is a convex set."
   ]
  },
  {
   "cell_type": "markdown",
   "metadata": {},
   "source": [
    "## 2. Polyhedron"
   ]
  },
  {
   "cell_type": "code",
   "execution_count": 1,
   "metadata": {},
   "outputs": [],
   "source": [
    "import numpy as np"
   ]
  },
  {
   "cell_type": "code",
   "execution_count": 4,
   "metadata": {},
   "outputs": [],
   "source": [
    "def findLine(x1, x2, y1, y2):\n",
    "    m = np.array([[x1, 1], [y1, 1]])\n",
    "    n = np.array([x2, y2])\n",
    "    k, b = np.linalg.solve(m, n)\n",
    "    return k, b\n"
   ]
  },
  {
   "cell_type": "code",
   "execution_count": 8,
   "metadata": {},
   "outputs": [
    {
     "name": "stdout",
     "output_type": "stream",
     "text": [
      "(0.5555555555555556, 4.222222222222222)\n",
      "(-1.5, -4.0)\n",
      "(2.5, -5.5)\n",
      "(-0.6666666666666667, -2.3333333333333335)\n"
     ]
    }
   ],
   "source": [
    "print(findLine(-4,2,5,7))\n",
    "print(findLine(-4,2,-2,-1))\n",
    "print(findLine(1,-3,5,7))\n",
    "print(findLine(1,-3,-2,-1))"
   ]
  },
  {
   "cell_type": "markdown",
   "metadata": {},
   "source": [
    "We can pick the subset ${(-4,2),(5,7),(1,-3),(-2,-1)}$ to form a convex hull in $\\mathbb{R}$, and each two points define a half-space,\n",
    "\n",
    "For $(-4,2),(5,7)$ the half-space is $-\\frac{5}{9}x + y \\preccurlyeq -\\frac{38}{9}$,\n",
    "\n",
    "For $(-4,2),(1,-3)$ the half-space is $-\\frac{3}{2}x - y \\preccurlyeq 4$,\n",
    "\n",
    "For $(1,-3),(5,7)$ the half-space is $\\frac{5}{2}x - y \\preccurlyeq \\frac{11}{2}$,\n",
    "\n",
    "For $(1,-3),(-2,-1)$ the half-space is $-\\frac{2}{3}x - y \\preccurlyeq \\frac{7}{3}$\n",
    "\n",
    "Therefore the polyhedron is $\\begin{bmatrix} -5 & 9\\\\ -3 & -2\\\\ 5 & -2\\\\ -2 & -3\\end{bmatrix} x \\preccurlyeq \\begin{bmatrix} -38\\\\ 8\\\\ 11\\\\ 7\\end{bmatrix}$\n",
    "\n",
    "The solution is not unique as we can do row operations like multiplying a scaler or adding some constant to easily get different solutions."
   ]
  },
  {
   "cell_type": "markdown",
   "metadata": {},
   "source": [
    "## 3. Convex Sets"
   ]
  },
  {
   "cell_type": "markdown",
   "metadata": {},
   "source": [
    "(a)\n",
    "\n",
    "A half-space can be intepreted as the set $\\left\\{x|a^Tx=b\\right\\}$ with $a \\neq 0$,\n",
    "\n",
    "Since $a^Tx$ represents an affine transformation in $\\mathbb{R^n}$,\n",
    "\n",
    "The condition $\\alpha \\leq a^Tx \\leq \\beta$ indicates an intersection of two half-spaces in $\\mathbb{R^n}$,\n",
    "\n",
    "which can be written as $\\left\\{x|a^Tx=b\\right\\}$ where $A = \\begin{bmatrix} -a^T & a^T \\end{bmatrix}^T, b = \\begin{bmatrix} -\\alpha & \\beta \\end{bmatrix}^T$,\n",
    "\n",
    "Therefore it is a convex set."
   ]
  },
  {
   "cell_type": "markdown",
   "metadata": {},
   "source": [
    "(b)\n",
    "\n",
    "Since $a_1^Tx \\leq b_1$ and $a_2^Tx \\leq b_2$,\n",
    "\n",
    "These two together forms an intersection of two half-spaces with \n",
    "$A = \\begin{bmatrix} a_1^T & a_2^T \\end{bmatrix}^T, b = \\begin{bmatrix} b_1 & b_2 \\end{bmatrix}^T$,\n",
    "\n",
    "Therefore is a convex set."
   ]
  },
  {
   "cell_type": "markdown",
   "metadata": {},
   "source": [
    "(c)\n",
    "\n",
    "When $x \\neq 0$, we can find that $x^Tx \\leq 1$, which is the intersection of infinite many half-spaces,\n",
    "\n",
    "When $x = 0$, it is a point which is also a convex set,\n",
    "\n",
    "Therefore it is a convex set."
   ]
  },
  {
   "cell_type": "markdown",
   "metadata": {},
   "source": [
    "(d)\n",
    "\n",
    "For $\\left\\{ x \\mid \\|x-x_0\\|_2 \\leq \\|x-y\\|_2 \\forall y \\in \\mathbb{R}^n \\right\\}$,\n",
    "\n",
    "Since $l_2$ norm is always non-negative,\n",
    "\n",
    "$\\begin{aligned} \\|x-x_0\\|_2 &\\leq \\|x-y\\|_2\\\\\n",
    "\\|x-x_0\\|_2^2 &\\leq \\|x-y\\|_2^2\\\\\n",
    "(x-x_0)^T(x-x_0) &\\leq (x-y)^T(x-y)\\\\\n",
    "x^Tx - x_0^Tx - x^Tx_0 + x_0^Tx_0 &\\leq x^Tx - y^Tx - x^Ty + y^Ty\\\\\n",
    "-2x_0^Tx + x_0^Tx_0 &\\leq -2y^Tx + y^Ty\\\\\n",
    "2(y^T - x_0^T)x &\\leq (y^Ty - x_0^Tx_0)\n",
    "\\end{aligned}$\n",
    "\n",
    "We can find that it is also a half-space and therefore is a convex set."
   ]
  },
  {
   "cell_type": "markdown",
   "metadata": {},
   "source": [
    "(e)\n",
    "\n",
    "Let $T$ be the unit circle in the centre of $\\mathbb{R}^2$, and $S$ be the set outside the $T$,\n",
    "\n",
    "The set of points in this case should be the same as $S$, and obviously $S$ is not a convex set,\n",
    "\n",
    "Therefore it is not a convex set."
   ]
  },
  {
   "cell_type": "markdown",
   "metadata": {},
   "source": [
    "(f)\n",
    "\n",
    "Suppose there are $x_1 + S_2 \\subseteq S_1$ and $x_2 + S_2 \\subseteq S_1$,\n",
    "\n",
    "The convex combination is $\\left\\{ \\theta x_1 + (1-\\theta)x_2 + S_2 \\right\\}$ with $\\theta \\in (0,1)$,\n",
    "\n",
    "$\\begin{aligned} \\theta x_1 + (1-\\theta)x_2 + S_2 &= \\theta x_1 + (1-\\theta)x_2 + \\theta S_2 + (1-\\theta)S_2\\\\\n",
    "&= \\theta(x_1 + S_2) + (1-\\theta)(x_2 + S_2) \\subseteq S_1 \\text{  as } \\theta \\in (0,1)\\\\\n",
    "\\end{aligned}$\n",
    "\n",
    "Therefore it is a convex set."
   ]
  },
  {
   "cell_type": "markdown",
   "metadata": {},
   "source": [
    "(g)\n",
    "\n",
    "For $\\left\\{ x \\mid \\|x-a\\|_2 \\leq \\theta \\|x-b\\|_2 \\right\\}$ with $\\theta \\in [0,1]$,\n",
    "\n",
    "Since $l_2$ norm is always non-negative,\n",
    "\n",
    "$\\begin{aligned} \\|x-a\\|_2 &\\leq \\theta \\|x-b\\|_2\\\\\n",
    "\\|x-a\\|_2^2 &\\leq \\theta^2 \\|x-b\\|_2^2\\\\\n",
    "(x-a)^T(x-a) &\\leq \\theta^2 (x-b)^T(x-b)\\\\\n",
    "x^Tx - 2a^Tx + a^Ta &\\leq \\theta^2 x^Tx - 2\\theta^2b^Tx + \\theta^2 b^Tb\\\\\n",
    "(1-\\theta^2)x^Tx + (2\\theta^2b^T - 2a^T)x + (a^Ta - \\theta^2 b^Tb) &\\leq 0\\\\\n",
    "\\end{aligned}$\n",
    "\n",
    "When $\\theta = 1$, There are no quadratic term therefoer it is a half-plane,\n",
    "\n",
    "When $\\theta \\in [0,1)$, it can form a ball in $\\mathbb{R}^n$,\n",
    "\n",
    "Therefore it is a convex set."
   ]
  },
  {
   "cell_type": "markdown",
   "metadata": {},
   "source": [
    "## 4. Sets of Probability Distributions"
   ]
  },
  {
   "cell_type": "markdown",
   "metadata": {},
   "source": [
    "(a)\n",
    "\n",
    "It can be written as $\\left\\{-\\sum_{i=1}^n p_ia_i \\leq -\\alpha\\right\\} \\cap \\left\\{\\sum_{i=1}^n p_ia_i \\leq \\beta\\right\\}$, \n",
    "\n",
    "which stands for an intersection of two finite sets of linear inequalities as i is finite,\n",
    "\n",
    "Therefore it is a convex set."
   ]
  },
  {
   "cell_type": "markdown",
   "metadata": {},
   "source": [
    "(b)\n",
    "\n",
    "It can be written as $\\sum_{a_i \\geq \\alpha}^{a_n} p_i \\leq \\beta$,\n",
    "\n",
    "which is also convex because it is a finite set of linear inequalities."
   ]
  },
  {
   "cell_type": "markdown",
   "metadata": {},
   "source": [
    "(c)\n",
    "\n",
    "It can be written as $\\sum_{i=1}^n p_ia_i^2 \\leq \\alpha$,\n",
    "\n",
    "which is also convex because it is a finite set of linear inequalities."
   ]
  },
  {
   "cell_type": "markdown",
   "metadata": {},
   "source": [
    "(d)\n",
    "\n",
    "$\\begin{aligned} var(x) &= E(x-(Ex))^2\\\\\n",
    "&= E(x^2 - 2x(Ex) + (Ex)^2)\\\\\n",
    "&\\text{As E(x) is a linear function and (Ex) is a constant}\\\\\n",
    "var(x) &= E(x^2) - 2(Ex)(Ex) + (Ex)^2\\\\\n",
    "&= E(x^2) - (Ex)^2 \\leq \\alpha\n",
    "\\end{aligned}$\n",
    "\n",
    "If we take $x = \\left\\{0, 1\\right\\}$ with probabilities of $P_1 = \\left\\{\\frac{1}{3}, \\frac{2}{3}\\right\\}$ and $P_2 = \\left\\{\\frac{2}{3}, \\frac{1}{3}\\right\\}$ and the convex combination $P_c = \\left\\{\\frac{1}{2}, \\frac{1}{2}\\right\\}$,\n",
    "\n",
    "$var(x)_{P_1} = \\frac{2}{3} - \\frac{4}{9} = \\frac{2}{9}$,\n",
    "\n",
    "$var(x)_{P_2} = \\frac{1}{3} - \\frac{1}{9} = \\frac{2}{9}$,\n",
    "\n",
    "$var(x)_{P_c} = \\frac{1}{2} - \\frac{1}{4} = \\frac{1}{4}$,\n",
    "\n",
    "Therefore we can pick an $\\alpha = \\frac{2}{9}$, that satisfies $P_1$ and $P_2$ but not $P_c$,\n",
    "\n",
    "$\\therefore$ it is not convex.\n"
   ]
  },
  {
   "cell_type": "markdown",
   "metadata": {},
   "source": [
    "(f)\n",
    "\n",
    "It can be written as $\\left\\{ \\sum_{a_i \\geq m}^{a_n} p_i \\geq \\frac{1}{2} \\right\\} \\cap \\left\\{ \\sum_{a_i \\leq m}^{a_1} p_i \\geq \\frac{1}{2} \\right\\}$,"
   ]
  },
  {
   "cell_type": "markdown",
   "metadata": {},
   "source": [
    "## 5. Saddle Points"
   ]
  },
  {
   "cell_type": "markdown",
   "metadata": {},
   "source": [
    "(a)\n",
    "\n",
    "$\\nabla_{zz}^2f(x,z)\\leq 0, \\nabla_{xx}^2f(x,z)\\geq 0\n",
    "$"
   ]
  },
  {
   "cell_type": "markdown",
   "metadata": {},
   "source": [
    "(b)\n",
    "\n",
    "When $\\tilde{x}$ is fixed, $f(\\tilde{x},z)$ is concave,\n",
    "\n",
    "Since $\\nabla_x f(\\tilde{x},\\tilde{z}) = 0$,\n",
    "\n",
    "$\\tilde{x}, \\tilde{z}$ together find the maxima of $f(\\tilde{x},z)$ when z changes,\n",
    "\n",
    "Therefore $f(\\tilde{x},z) \\leq f(\\tilde{x},\\tilde{z})$.\n",
    "\n",
    "Similarly, when $\\tilde{z}$ is fixed, $f(x,\\tilde{z})$ is convex, and thus $\\tilde{x}, \\tilde{z}$ is the manima of $f(x,\\tilde{z})$ when x changes,\n",
    "\n",
    "Therefore we ca deduce that $f(\\tilde{x},\\tilde{z}) \\leq f(x,\\tilde{z})$.\n",
    "\n",
    "Thus $f(\\tilde{x},z) \\leq f(\\tilde{x},\\tilde{z}) \\leq f(x,\\tilde{z})$.\n"
   ]
  },
  {
   "cell_type": "markdown",
   "metadata": {},
   "source": [
    "(c)\n",
    "\n",
    "For $g(z) = \\inf_x f(x,z)$ it means that for each $z' \\in z$, \n",
    "\n",
    "$g(z)$ will finds its minimal $x'$ so that $f(x',z')$ is the mininal for all $f(x,z')$ as $f(x,z)$ is convex when $z$ is fixed,\n",
    "\n",
    "Therefore $g(z) \\geq f(\\tilde{x},\\tilde{z}) = g(\\tilde{z})$ as $f(\\tilde{x},\\tilde{z})$ find the mininal among all $z$,\n",
    "\n",
    "Moreover, it is obvious that $\\sup_z g(z) \\geq g(z)$ as $\\sup_z g(z)$ finds the maxima among all $g(z)$,\n",
    "\n",
    "$\\therefore \\sup_z g(z) \\geq g(z) \\geq f(\\tilde{x},\\tilde{z})$\n",
    "\n",
    "$\\therefore \\sup_z \\inf_x f(x,z) \\geq f(\\tilde{x},\\tilde{z})$"
   ]
  },
  {
   "cell_type": "markdown",
   "metadata": {},
   "source": [
    "(d)\n",
    "\n",
    "Similar to (c), $h(x) = \\sup_z f(x,z)$ means for each $x' \\in x, h(x')$ finds its own maxima $f(x',\\tilde{z'})$ as $f(x,z)$ is convave when x is fixed,\n",
    "\n",
    "$\\therefore h(x) \\leq f(\\tilde{x},\\tilde{z}) = h(\\tilde{x})$,\n",
    "\n",
    "Since $\\inf_x h(x) \\leq h(x)$,\n",
    "\n",
    "$\\therefore \\inf_x h(x) \\leq h(x) \\leq f(\\tilde{x},\\tilde{z}) = h(\\tilde{x})$,\n",
    "\n",
    "$\\therefore \\inf_x \\sup_z f(x,z) \\leq f(\\tilde{x},\\tilde{z})$."
   ]
  },
  {
   "cell_type": "markdown",
   "metadata": {},
   "source": [
    "(e)\n",
    "\n",
    "Since $g(z)$ finds each $x'$ that satisfies $f(x',z) \\leq f(x,z)$ for each $z$ and for all $x$,\n",
    "\n",
    "$\\therefore \\sup_z g(z) \\leq \\sup_z f(x,z)$ for all $x$,\n",
    "\n",
    "$\\therefore \\sup_z g(z) \\leq \\inf_x \\sup_z f(x,z)$,\n",
    "\n",
    "$\\therefore \\sup_z g(z) \\leq \\inf_x h(x)$,\n"
   ]
  },
  {
   "cell_type": "markdown",
   "metadata": {},
   "source": [
    "(f)\n",
    "\n",
    "From the conclusion in (c) and (d),\n",
    "\n",
    "we can get that $\\sup_z g(z) = \\inf_x h(x) = f(\\tilde{x}, \\tilde{z})$\n",
    "\n",
    "$\\therefore \\sup_z \\inf_x f(x,z) = \\inf_x \\sup_z f(x,z)$"
   ]
  },
  {
   "cell_type": "markdown",
   "metadata": {},
   "source": [
    "## 6. Quasiconvexity"
   ]
  },
  {
   "cell_type": "markdown",
   "metadata": {},
   "source": [
    "#### (a) $f(x) = e^x -1$"
   ]
  },
  {
   "cell_type": "markdown",
   "metadata": {},
   "source": [
    "$\\nabla^2 f(x) = e^x \\gt \\text{0, } \\forall x \\in \\mathbb{R}$,\n",
    "\n",
    "$\\therefore f(x)$ is convex.\n",
    "\n",
    "$\\nabla f(x) = e^x\\\\\n",
    "\\nabla f(x) \\cdot (y - x) = e^x \\cdot (y - x)\\\\\n",
    "$\n",
    "\n",
    "Since $f(y) \\leq f(x)$,\n",
    "\n",
    "$y \\leq x \\text{ as } f(x)$ is monotonically increasing on $\\mathbb{R}$,\n",
    "\n",
    "$\\therefore \\nabla f(x) \\cdot (y - x) = e^x \\cdot (y - x) \\leq 0\n",
    "$\n",
    "\n",
    "Therefore $f(x)$ is quasiconvex.\n",
    "\n",
    "For $g(x) = -f(x) = 1 - e^x$,\n",
    "\n",
    "$f(y) \\leq f(x)$ indicates that $y \\geq x$,\n",
    "\n",
    "$\\therefore \\nabla f(x) \\cdot (y - x) = -e^x \\cdot (y - x) \\leq 0\n",
    "$\n",
    "\n",
    "$\\therefore -f(x)$ is quasiconvex.\n",
    "\n",
    "Thus $f(x) = e^x$ is convex and quasilinear.\n",
    "\n"
   ]
  },
  {
   "cell_type": "markdown",
   "metadata": {},
   "source": [
    "#### (b) $f(x) = x_1x_2$"
   ]
  },
  {
   "cell_type": "markdown",
   "metadata": {},
   "source": [
    "$\\nabla^2 f(x) = \\begin{bmatrix} \n",
    "\\frac{\\partial^2 f}{\\partial x_1^2} & \\frac{\\partial^2 f}{\\partial x_1 \\partial x_2}\\\\\n",
    "\\frac{\\partial^2 f}{\\partial x_1 \\partial x_2} & \\frac{\\partial^2 f}{\\partial x_2^2}\n",
    "\\end{bmatrix}\n",
    "= \\begin{bmatrix}\n",
    "0 & 1\\\\ 1 & 0 \\end{bmatrix}$\n",
    "\n",
    "The eigenvalues of the Hessian is $\\lambda^2 = 1 \\gt \\lambda = \\pm 1$,\n",
    "\n",
    "Therefore the Hessian is not positive semidefinite and $f(x)$ is neither convex or concave.\n",
    "\n",
    "$\\nabla f(x) = \\begin{bmatrix} x_2 & x_1 \\end{bmatrix}$,\n",
    "\n",
    "$\\begin{aligned}\\nabla f(x) \\cdot (y-x) &= \\begin{bmatrix} x_2 & x_1 \\end{bmatrix}\n",
    "\\cdot \\begin{bmatrix} y_1 - x_1 & y_2 - x_2 \\end{bmatrix}^T\\\\\n",
    "&= y_1x_2 + x_1y_2 -2x_1x_2\\\\\n",
    "&\\geq 2\\sqrt{x_1x_2y_1y_2} - 2x_1x_2\\\\\n",
    "\\text{Since } y_1y_2 \\lt x_1x_2\\\\\n",
    "\\sqrt{x_1x_2y_1y_2} &\\leq x_1x_2\\\\\n",
    "\\therefore 2\\sqrt{x_1x_2y_1y_2} - 2x_1x_2 &\\leq 0\n",
    "\\end{aligned}$\n",
    "\n",
    "$\\therefore f(x)$ is not quasiconvex since $\\nabla f(x) \\cdot (y-x) \\geq$ something that is $\\leq 0$.\n",
    "\n",
    "For $g(x) = -f(x)$,\n",
    "\n",
    "$\\nabla g(x) = \\begin{bmatrix} -x_2 & -x_1 \\end{bmatrix}$,\n",
    "\n",
    "Since $f(y) \\leq f(x)$,\n",
    "\n",
    "$y_1y_2 \\geq x_1x_2$,\n",
    "\n",
    "$\\begin{aligned}\\nabla g(x) \\cdot (y-x) &= \\begin{bmatrix} -x_2 & -x_1 \\end{bmatrix}\n",
    "\\cdot \\begin{bmatrix} y_1 - x_1 & y_2 - x_2 \\end{bmatrix}^T\\\\\n",
    "&= 2x_1x_2 - (y_1x_2 + x_1y_2)\\\\\n",
    "&\\leq 2x_1x_2 - 2\\sqrt{x_1x_2y_1y_2}\\\\\n",
    "&\\leq 0 \\text{ as } y_1y_2 \\geq x_1x_2\\\\\n",
    "\\end{aligned}$\n",
    "\n",
    "Since $x \\in \\mathbb{R^+}$ $dom(g)$ is also convex,\n",
    "\n",
    "$\\therefore f(x)$ is quasiconcave.\n",
    "\n",
    "Overall, $f(x)$ is quasiconcave.\n"
   ]
  },
  {
   "cell_type": "markdown",
   "metadata": {},
   "source": [
    "#### (c) $f(x) = \\frac{x_1^2}{x_2}$ on $\\mathbb{R} \\times \\mathbb{R_{++}}$"
   ]
  },
  {
   "cell_type": "markdown",
   "metadata": {},
   "source": [
    "$\\nabla^2 f(x) = \\begin{bmatrix}\n",
    "\\frac{1}{x_2} & -\\frac{2x_1}{x_2^2} \\\\\n",
    "-\\frac{2x_1}{x_2^2} & \\frac{2x_1^2}{x_2^3}\n",
    "\\end{bmatrix}$\n",
    "\n",
    "$det(\\nabla^2 f(x) - \\lambda I) = 0\\\\\n",
    "$\n",
    "$det\\begin{bmatrix}\n",
    "\\frac{2}{x_2} - \\lambda& -\\frac{2x_1}{x_2^2} \\\\\n",
    "-\\frac{2x_1}{x_2^2} & \\frac{2x_1^2}{x_2^3} - \\lambda\n",
    "\\end{bmatrix} = 0\\\\$\n",
    "\n",
    "$\\begin{aligned} (\\frac{2}{x_2} - \\lambda)(2\\frac{x_1^2}{x_2^3} - \\lambda) - 4\\frac{x_1^2}{x_2^4} &= 0\\\\\n",
    "4\\frac{x_1^2}{x_2^4} - \\frac{2x_2^2+2x_1^2}{x_2^3}\\lambda + \\lambda^2 - 4\\frac{x_1^2}{x_2^4} &= 0\\\\\n",
    "\\lambda(\\lambda - \\frac{2x_1^2 + 2x_2^2}{x_2^3}) &= 0\n",
    "\\end{aligned}$\n",
    "\n",
    "Since $x_2 \\in \\mathbb{R_{++}}, x_2$ is positive,\n",
    "\n",
    "Therefore $\\lambda_1 = 0, \\lambda_2 = \\frac{2x_1^2 + 2x_2^2}{x_2^3}$ must be positive,\n",
    "\n",
    "$\\therefore f(x)$ is convex and non-concave.\n",
    "\n",
    "$\\nabla f(x) = \\begin{bmatrix} 2\\frac{x_1}{x_2} & -\\frac{x_1^2}{x_2^2} \\end{bmatrix}\n",
    "$\n",
    "\n",
    "Since $f(y) \\leq f(x)$\n",
    "\n",
    "$\\begin{aligned} \\frac{y_1^2}{y_2} &\\leq \\frac{x_1^2}{x_2} \\\\\n",
    "\\text{as } x_2, y_2 &\\in \\mathbb{R_{++}}\\\\\n",
    "y_1^2x_2 &\\leq y_2x_1^2\\\\\n",
    "y_1^2x_2 + x_2x_1^2 &\\leq (x_2 + y_2)x_1^2\\\\\n",
    "2x_2 |x_1y_1| \\leq y_1^2x_2 + x_2x_1^2 &\\leq (x_2 + y_2)x_1^2\\\\\n",
    "\\end{aligned}$\n",
    "\n",
    "$\\therefore 2x_1x_2y_1 \\leq 2x_2 |x_1y_1| \\leq (x_2 + y_2)x_1^2\n",
    "$ \n",
    "\n",
    "$\\begin{aligned} \\nabla f(x) \\cdot (y-x) &= 2\\frac{x_1y_1}{x_2} - 2\\frac{x_1^2}{x_2} + \\frac{x_1^2x_2}{x_2^2} - \\frac{x_1^2y_2}{x_2^2}\\\\\n",
    "&= \\frac{2x_1y_1x_2 - 2x_1^2x_2 + x_1^2x_2 - x_1^2y_2}{x_2^2}\\\\\n",
    "&= \\frac{1}{x_2^2}\\left(2x_1x_2y_1 - (x_2 + y_2)x_1^2\\right) \\leq 0\\\\\n",
    "\\end{aligned}$\n",
    "\n",
    "$\\therefore f(x)$ is quasiconvex.\n"
   ]
  },
  {
   "cell_type": "markdown",
   "metadata": {},
   "source": [
    "For $g(x) = -f(x) = -\\frac{x_1^2}{x_2}$\n",
    "\n",
    "$\\nabla f(x) = \\begin{bmatrix} -2\\frac{x_1}{x_2} & \\frac{x_1^2}{x_2^2} \\end{bmatrix}\n",
    "$\n",
    "\n",
    "Since $f(y) \\leq f(x)$\n",
    "\n",
    "$\\begin{aligned} \\frac{y_1^2}{y_2} &\\geq \\frac{x_1^2}{x_2} \\\\\n",
    "\\text{as } x_2, y_2 &\\in \\mathbb{R_{++}}\\\\\n",
    "y_1^2x_2 &\\geq y_2x_1^2\\\\\n",
    "y_1^2x_2 + x_2x_1^2 &\\geq (x_2 + y_2)x_1^2\\\\\n",
    "2x_2 |x_1y_1| \\leq y_1^2x_2 + x_2x_1^2 &\\geq (x_2 + y_2)x_1^2\\\\\n",
    "\\end{aligned}$\n",
    "\n",
    "$\\therefore$ We can't define whether $\\nabla f(x) \\cdot (y-x)$ is positive or not.\n",
    "\n",
    "Therefore it is not quasiconvave.\n",
    "\n",
    "Thus $f(x)$ is convex and quasiconvex\n"
   ]
  },
  {
   "cell_type": "markdown",
   "metadata": {},
   "source": [
    "#### (d) $f(x) = x_1^\\alpha x_2^{1-\\alpha}$, where $\\alpha \\in (0,1)$, on $\\mathbb{R_{++}}$"
   ]
  },
  {
   "cell_type": "markdown",
   "metadata": {},
   "source": [
    "$\\begin{aligned}\\nabla^2 f(x) &= \\begin{bmatrix}\n",
    "\\alpha (\\alpha - 1)x_1^{\\alpha-2}x_2^{1-\\alpha} & \\alpha (1 - \\alpha)x_1^{\\alpha-1}x_2^{-\\alpha} \\\\\n",
    "\\alpha (1 - \\alpha)x_1^{\\alpha-1}x_2^{-\\alpha} & -\\alpha (1 - \\alpha)x_1^{\\alpha}x_2^{-1-\\alpha}\n",
    "\\end{bmatrix}\\\\\n",
    "&= \\alpha (\\alpha - 1)x_1^{\\alpha}x_2^{1-\\alpha} \\begin{bmatrix}\n",
    "-\\frac{1}{x_1^2} & \\frac{1}{x_1x_2} \\\\\n",
    "\\frac{1}{x_1x_2} & -\\frac{1}{x_2^2} \\end{bmatrix}\\\\\n",
    "\\end{aligned}$\n",
    "\n",
    "$\\begin{aligned} det(\\nabla^2 f(x) - \\lambda I) &= \\alpha (\\alpha - 1)x_1^{\\alpha}x_2^{1-\\alpha} det\\begin{bmatrix}\n",
    "-\\frac{1}{x_1^2} - \\lambda & \\frac{1}{x_1x_2} \\\\\n",
    "\\frac{1}{x_1x_2} & -\\frac{1}{x_2^2} - \\lambda \\end{bmatrix}\\\\\n",
    "&= \\alpha (\\alpha - 1)x_1^{\\alpha}x_2^{1-\\alpha} \\left( (\\frac{1}{x_1^2} + \\lambda)(\\frac{1}{x_2^2} + \\lambda) - \\frac{1}{x_1^2x_2^2} \\right)\\\\\n",
    "&= \\alpha (\\alpha - 1)x_1^{\\alpha}x_2^{1-\\alpha} \\frac{x_1^2 + x_2^2}{x_1^2x_2^2} \\lambda = 0\\\\\n",
    "\\end{aligned}$\n",
    "\n",
    "Since all terms except $\\alpha - 1$ are positive,\n",
    "\n",
    "$\\therefore \\lambda$ must be negative,\n",
    "\n",
    "Therefore $f(x)$ is concave and thus quasiconcave.\n",
    "\n"
   ]
  },
  {
   "cell_type": "markdown",
   "metadata": {},
   "source": [
    "## 7. Conjugate Functions"
   ]
  },
  {
   "cell_type": "markdown",
   "metadata": {},
   "source": [
    "(a)\n",
    "\n",
    "$f(x) = \\max(x_1,x_2,\\cdots,x_n)$\n",
    "\n",
    "$f^*(y) = \\sup_{x_i}\\left\\{y^Tx-f(x)\\right\\}$\n",
    "\n",
    "When there is any $y_i$ < 0,\n",
    "\n",
    "$h(x) = \\sum_i x_i y_i - \\max(x_i)\n",
    "$\n",
    "\n",
    "In the case that for the negative $y_i$, its corresponding $x_i = -\\infty$ and all other $x_i$ are not $-\\infty$.\n",
    "\n",
    "Then $h(x) = \\infty$ and thus $f^*(y) = \\infty$\n",
    "\n",
    "When all $y_i$ > 0 which means $y \\succcurlyeq 0$,\n",
    "\n",
    "$h(x) = \\sum_i x_i y_i - \\max(x_i)\n",
    "$\n",
    "\n",
    "When $1^T y = 1$,\n",
    "\n",
    "$\\sum_i x_i y_i \\leq \\sum_i \\max(x_i) y_i = \\max(x_i)\\\\\n",
    "\\therefore h(x) = \\sum_i x_i y_i - \\max(x_i) \\leq 0\\\\\n",
    "\\therefore f^*(y) = 0\n",
    "$.\n",
    "\n",
    "When $1^T y \\geq 1$,\n",
    "\n",
    "If we let every element in x approaches $\\infty$, we can find that $\\sum_i x_i y_i > \\infty = max(x_i)$,\n",
    "\n",
    "$\\therefore f^*(y) = \\infty$.\n",
    "\n",
    "When $1^T y \\leq 1$,\n",
    "\n",
    "Similarly if we let every element in x approaches $\\infty$, we find that $\\sum_i x_i y_i < -\\infty = max(x_i)$,\n",
    "\n",
    "$\\therefore f^*(y) = \\infty$.\n",
    "\n",
    "Overall, $f^*(y) = \\begin{cases} 0 & \\text{for } y \\succcurlyeq 0 \\text{ and } 1^T y = 1 \\text{ and } x_i \\text{ are all equal}\\\\\n",
    "\\infty & \\text{for the rest situations}\\\\\n",
    "\\end{cases}$."
   ]
  },
  {
   "cell_type": "markdown",
   "metadata": {},
   "source": [
    "(b)\n",
    "\n",
    "$f(x) = \\sum_{i=1}^rx_{[i]}$ on $\\mathbb{R}^n$\n",
    "\n",
    "$\\begin{aligned}h(x) &= y^Tx - f(x)\\\\\n",
    "&= y^Tx - \\sum_{i=1}^rx_{[i]}\n",
    "\\end{aligned}$\n",
    "\n",
    "If any element $y_i \\in y < 0$, we can let $x_i = -\\infty$ and other $x$ to some finite value,\n",
    "\n",
    "$h(x) = \\infty$ and therefore $f^*(y) = \\infty$,\n",
    "\n",
    "When $y \\succcurlyeq 0$\n",
    "\n",
    "$\\begin{aligned} h(x) &= y^Tx - f(x)\\\\\n",
    "&= \\sum_{i=1}^n x_iy_i - \\sum_{i=1}^r x_{[i]}\\\\\n",
    "&= \\sum_{i=r+1}^n x_{[i]}y_i + \\sum_{i=1}^r x_{[i]}y_i - \\sum_{i=1}^r x_{[i]}\\\\\n",
    "&= \\sum_{i=r+1}^n x_{[i]}y_i + \\sum_{i=1}^r (y_i - 1)x_{[i]}\\\\\n",
    "&\\leq x_{[1]} (\\sum_{i=r+1}^n y_i + \\sum_{i=1}^r (y_i - 1)) = x_{[1]} (\\sum_{i=1}^n y_i - r)\n",
    "\\end{aligned}$\n",
    "\n",
    "Therefore we need $(\\sum_{i=1}^n y_i - r)$ = 0 to make $h(x)$ has a boundry,\n",
    "\n",
    "Therefore $h(x) = 0$ iff $1^Ty = r$,\n",
    "\n",
    "Overall, $f^*(y) = \\begin{cases} 0 & \\text{for } y \\succcurlyeq 0 \\text{ and } 1^Ty=r\\\\\n",
    "\\infty & \\text{for the rest situations}\\\\\n",
    "\\end{cases}$."
   ]
  },
  {
   "cell_type": "markdown",
   "metadata": {},
   "source": [
    "(c)\n",
    "\n",
    "$f(x) = -(\\prod_{i=1}^nx_i)^{\\frac{1}{n}}$ on $\\mathbb{R}_{++}^n$\n",
    "\n",
    "$\\begin{aligned}f^*(y) &= \\sup_{x_i}\\left\\{y^Tx-f(x)\\right\\}\\\\\n",
    "&= \\sup_{x_i}\\left\\{y^Tx+(\\prod_{i=1}^nx_i)^{\\frac{1}{n}}\\right\\}\n",
    "\\end{aligned}$\n",
    "\n",
    "$h(x) = y^Tx+(\\prod_{i=1}^nx_i)^{\\frac{1}{n}}\n",
    "$\n",
    "\n",
    "If $y \\succcurlyeq 0$, $h(x)$ must be greater than 0 and in this case $f^*(y) = \\infty$.\n",
    "\n",
    "When every element of $y$ is negative,\n",
    "\n",
    "If we want to make $h(x) \\leq 0$, we can use the fact that the geometirc mean is greater or equal than arithmetic mean,\n",
    "\n",
    "which can be written as $\\frac{1}{n}1^Tx \\geq (\\prod_{i=1}^nx_i)^{\\frac{1}{n}}$,\n",
    "\n",
    "$\\therefore$ What we need is to find $-y^Tx \\geq \\frac{1}{n}1^Tx \\geq (\\prod_{i=1}^nx_i)^{\\frac{1}{n}}$, the equality holds iff all elements of x are equal,\n",
    "\n",
    "$\\begin{aligned} -y^Tx &\\geq \\frac{1}{n}1^Tx\\\\\n",
    "\\sum_{i=1}^n (-y_i)x_i &\\geq \\frac{1}{n}\\sum_{i=1}^nx_i\\\\\n",
    "\\end{aligned}$,\n",
    "\n",
    "The equality holds when all elements of y are equal and thus $(\\prod_{i=1}^n(-y_i))^{\\frac{1}{n}} = \\frac{1}{n}$,\n",
    "\n",
    "$\\therefore h(x) \\leq 0$ iff $(\\prod_{i=1}^n(-y_i))^{\\frac{1}{n}} \\geq \\frac{1}{n}$,\n",
    "\n",
    "Overall, $f^*(y) = \\begin{cases} 0 & \\text{for } y \\prec 0 \\text{ and } (\\prod_{i=1}^n(-y_i))^{\\frac{1}{n}} \\geq \\frac{1}{n}\\\\\n",
    "\\infty & \\text{for the rest situations}\\\\\n",
    "\\end{cases}$."
   ]
  },
  {
   "cell_type": "markdown",
   "metadata": {},
   "source": [
    "## 8. Optimisation\n"
   ]
  },
  {
   "cell_type": "markdown",
   "metadata": {},
   "source": [
    "Since $P = I, q = (-1,0), r = 5$\n",
    "\n",
    "$f(x_1,x_2) = \\frac{1}{2}(x_1^2+x_2^2) - x_1 + 5$\n",
    "\n",
    "Since $a = (1,-2), b = 1$\n",
    "\n",
    "$\\begin{aligned} a^Tx &= b\\\\\n",
    "x_1 - 2x_2 &= 1\\\\\n",
    "x_1 &= 2x_2 + 1\n",
    "\\end{aligned}\\\\\n",
    "$\n",
    "\n",
    "$\\therefore f(x) = \\frac{1}{2}\\left((2x_2 + 1)^2+x_2^2\\right) - 2x_2 - 1 + 5\\\\\n",
    "\\therefore f(x) = \\frac{5}{2}x_2^2 +\\frac{9}{2}\\\\$\n",
    "$\\nabla f(x) = 5x_2 = 0\\\\\n",
    "\\therefore x_2 = 0, x_1 = 1\\\\\n",
    "\\therefore x = (1,0)$\n",
    "\n",
    "Since $\\lVert x\\rVert_2 = 1 \\geq 1\\\\$\n",
    "$\\therefore$ the solution won't change.\n"
   ]
  }
 ],
 "metadata": {
  "interpreter": {
   "hash": "6b55f2c5758f94475f4f7183eca0917db64713a141a094f87423d7ec135e764d"
  },
  "kernelspec": {
   "display_name": "Python 3.7.6 ('base')",
   "language": "python",
   "name": "python3"
  },
  "language_info": {
   "codemirror_mode": {
    "name": "ipython",
    "version": 3
   },
   "file_extension": ".py",
   "mimetype": "text/x-python",
   "name": "python",
   "nbconvert_exporter": "python",
   "pygments_lexer": "ipython3",
   "version": "3.7.6"
  },
  "orig_nbformat": 4
 },
 "nbformat": 4,
 "nbformat_minor": 2
}
