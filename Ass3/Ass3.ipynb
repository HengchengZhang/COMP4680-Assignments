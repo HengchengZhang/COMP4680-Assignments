{
 "cells": [
  {
   "cell_type": "markdown",
   "metadata": {},
   "source": [
    "# Assignment 3 "
   ]
  },
  {
   "cell_type": "markdown",
   "metadata": {},
   "source": [
    "Hengcheng Zhang\n",
    "\n",
    "u7096187"
   ]
  },
  {
   "cell_type": "markdown",
   "metadata": {},
   "source": [
    "## 1. Rocket Science"
   ]
  },
  {
   "cell_type": "markdown",
   "metadata": {},
   "source": [
    "(a)\n",
    "\n",
    "Let $x_1$ denotes the units of solid fuel, $x_2$ denotes the unit of liquid oxygen.\n",
    "\n",
    "$\\begin{aligned} \\text{minimize } &\\frac{1}{2}x^TPx + q^Tx + r\\\\\n",
    "\\text{subject to } &2x_1 + x_2 \\leq 500 &\\text{weight}\\\\\n",
    "&-x_1 \\leq -30 &\\text{ignite}\\\\\n",
    "&2x_1 - x_2 \\leq 0 &\\text{efficiency}\\\\\n",
    "&-7x_1 + x_2 \\leq 0 &\\text{safe opreation}\\\\\n",
    "&-x_1 \\leq 0 &\\text{real world unit}\\\\\n",
    "&-x_2 \\leq 0 &\\text{real world unit}\\\\\n",
    "\\end{aligned}$"
   ]
  },
  {
   "cell_type": "markdown",
   "metadata": {},
   "source": [
    "(b)\n",
    "\n",
    "Since we need to maximize the tolarence towards error, we want to find the Chebyshev centre of the polydron form by the constraints.\n",
    "\n",
    "We can then rewtire the constraints in the form of $Ax \\preceq b$ where $A = \\begin{bmatrix} 2 & 1\\\\ -1 & 0\\\\ 2 & -1\\\\ -7 & 1\\\\ -1 &0\\\\ 0 & -1\\end{bmatrix}$ and $b = \\begin{bmatrix} 500\\\\ -30\\\\ 0\\\\ 0\\\\ 0\\\\ 0\\end{bmatrix}$.\n",
    "\n",
    "Then we can find the centre of ball $x_c$ and radius $r$ by solving \n",
    "$\\begin{aligned} &\\text{maximize } r\\\\\n",
    "&\\text{subject to } a_i^Tx_c + r \\|a_i\\|_2 \\leq b_i, i = 1, \\cdots, 6\n",
    "\\end{aligned}$\n",
    "\n",
    "which is equivalent to\n",
    "$\\begin{aligned} \\text{maximize } &r\\\\\n",
    "\\text{subject to } & 2x_1 + x_2 + \\sqrt{5}r \\leq 500\\\\\n",
    "& -x_1 + r \\leq -30\\\\\n",
    "& 2x_1 - x_2 + \\sqrt{5}r \\leq 0\\\\\n",
    "& -7x_1 + x_2 + 5\\sqrt{2}r \\leq 0\\\\\n",
    "& -x_1 +r \\leq 0\\\\\n",
    "& -x_2 + r \\leq 0\\\\\n",
    "\\end{aligned}$\n"
   ]
  },
  {
   "cell_type": "markdown",
   "metadata": {},
   "source": [
    "(c)\n",
    "\n",
    "Since all the contraints are forms a polyhedron, they are all convex.\n",
    "\n",
    "$\\therefore$ This problem is convex. "
   ]
  },
  {
   "cell_type": "code",
   "execution_count": 119,
   "metadata": {},
   "outputs": [],
   "source": [
    "import numpy as np\n",
    "import matplotlib.pyplot as plt"
   ]
  },
  {
   "cell_type": "code",
   "execution_count": 120,
   "metadata": {},
   "outputs": [
    {
     "data": {
      "text/plain": [
       "Text(0, 0.5, '$x_2$')"
      ]
     },
     "execution_count": 120,
     "metadata": {},
     "output_type": "execute_result"
    },
    {
     "data": {
      "image/png": "[encoded data removed]",
      "text/plain": [
       "<Figure size 936x648 with 1 Axes>"
      ]
     },
     "metadata": {
      "needs_background": "light"
     },
     "output_type": "display_data"
    }
   ],
   "source": [
    "plt.figure(figsize=[13,9])\n",
    "lower_bound = -50\n",
    "upper_bound = 450\n",
    "mesh_count = (upper_bound-lower_bound) * 5\n",
    "d = np.linspace(lower_bound,upper_bound,mesh_count)\n",
    "x,y = np.meshgrid(d,d)\n",
    "plt.imshow( ((2*x+y<=500) & (-x<=-30) & (2*x-y<=0) & (-7*x+y<=0) & (-x<=0) & (-y<=0)).astype(int), \n",
    "            alpha = 0.1, cmap='Greys', origin=\"lower\", extent=(lower_bound,upper_bound,lower_bound,upper_bound))\n",
    "x = np.linspace(lower_bound, upper_bound, mesh_count)\n",
    "y1 = -2*x + 500\n",
    "y3 = 2*x\n",
    "y4 = 7*x\n",
    "plt.plot(x, y1, label='$2x_1 + x_2 \\leq 500$')\n",
    "plt.plot(30*np.ones(mesh_count), x, label='$-x_1 \\leq -30$')\n",
    "plt.plot(x, y3, label='$2x_1 - x_2 \\leq 0$')\n",
    "plt.plot(x, y4, label='$-7x_1 + x_2 \\leq 0 $')\n",
    "plt.plot(x, np.zeros(mesh_count),label='$x_2 \\geq 0$')\n",
    "plt.plot(np.zeros(mesh_count),x,label='$x_1 \\geq 0$')\n",
    "plt.xlim(lower_bound,upper_bound)\n",
    "plt.ylim(lower_bound,upper_bound)\n",
    "plt.legend(loc = 'best')\n",
    "plt.xlabel('$x_1$')\n",
    "plt.ylabel('$x_2$')"
   ]
  },
  {
   "cell_type": "markdown",
   "metadata": {},
   "source": [
    "(d)\n",
    "\n",
    "The good solution is around $x = (80, 250)$ because it is the centre of the largest inscribed circle in the polyhedron."
   ]
  },
  {
   "cell_type": "markdown",
   "metadata": {},
   "source": [
    "## 2. Optimality"
   ]
  },
  {
   "cell_type": "markdown",
   "metadata": {},
   "source": [
    "(a)\n",
    "\n",
    "Since $x$ is optimal iff it is feasible and \n",
    "$\\nabla f_0(x)^T(y-x) \\geq 0\n",
    "$\n",
    "\n",
    "$\\begin{aligned} \\nabla f_0(x) &= Px + q\\\\\n",
    "&= \\begin{bmatrix} 26 & 24 & -4\\\\ 24 & 34 & 12\\\\ -4 & 12 & 24 \\end{bmatrix} \\cdot \\begin{bmatrix} 1 & 0.5 & -1 \\end{bmatrix}^T + \\begin{bmatrix} -44 & -29 & 26 \\end{bmatrix}^T\\\\\n",
    "&= \\begin{bmatrix} -2 & 0 & 4 \\end{bmatrix}^T\n",
    "\\end{aligned}$\n",
    "\n",
    "$\\begin{aligned}\n",
    "\\nabla f_0(x)^T(y-x) &= \\begin{bmatrix} -2 & 0 & 4 \\end{bmatrix} \\cdot \\begin{bmatrix} y_1 - 1\\\\ y_2 - \\frac{1}{2}\\\\ y_3 + 1 \\end{bmatrix}\\\\\n",
    "&= -2y_1 +4y_3 +6\n",
    "\\end{aligned}$\n",
    "\n",
    "Since $y_1$ and $y_3 \\in [-1,1]$\n",
    "\n",
    "$\\therefore -2y_1 + 4y_3 \\in [-6, 6]$\n",
    "\n",
    "$\\therefore \\nabla f_0(x)^T(y-x) = -2y_1 +4y_3 +6 \\geq 0$\n",
    "\n",
    "$\\therefore x^* = \\begin{bmatrix} 1 & \\frac{1}{2} & -1 \\end{bmatrix}$ is optimal."
   ]
  },
  {
   "cell_type": "markdown",
   "metadata": {},
   "source": [
    "(b)\n",
    "\n",
    "For $x_1, x_2, x_3$,\n",
    "\n",
    "$f(x_1) \\in [-2, 0],$\n",
    "\n",
    "$f(x_2) \\in [-1.5, 0.5]$\n",
    "\n",
    "$f(x_3) \\in [0, 2]$\n",
    "\n",
    "For all $x_1, x_2, x_3$, no $f(x_i) $ is strictly equal to zero,\n",
    "\n",
    "$\\therefore$ no constraints is active."
   ]
  },
  {
   "cell_type": "markdown",
   "metadata": {},
   "source": [
    "## 3. Simple Linear Programs"
   ]
  },
  {
   "cell_type": "markdown",
   "metadata": {},
   "source": [
    "(a)\n",
    "\n",
    "If $Ax=b$ has no solution for $x$, then this LP is infeasible and thus $p^* = \\infty$,\n",
    "\n",
    "<!-- there will be no constraints and this LP have no solution, -->\n",
    "\n",
    "otherwise we can construct the Lagrangian where \n",
    "$\\begin{aligned} \\mathcal{L}(x,\\nu) &= c^Tx + \\nu^T(Ax-b)\\\\\n",
    "\\nabla_x \\mathcal{L}(\\nu) &= c + A^T \\nu = 0\\\\\n",
    "\\therefore c &= -A^T \\nu\\\\\n",
    "\\end{aligned}$\n",
    "\n",
    "$\\therefore$ When $-A^T\\nu = c$ has no solution, there will be no valid $\\nu$ and therefore the LP will also have no solution,\n",
    "\n",
    "otherwise if we substitute $-A^T\\nu = c$ into the Lagrangian, \n",
    "\n",
    "We can get $\\mathcal{L}(\\nu) = p^* = \\nu^Tb $ when $\\nu$ satisfies $-A^T\\nu=c$,\n",
    "\n",
    "Therefore this LP has no solution when $-A^T\\nu=c$ has no solution for $\\nu$ has $p^* = \\infty$ for $Ax=b$ has no solution for $x$, otherwise the solution is $ \\{ x \\mid Ax = b \\} $."
   ]
  },
  {
   "cell_type": "markdown",
   "metadata": {},
   "source": [
    "(b)\n",
    "\n",
    "For $c_i > 0$, we choose the corresponding $x_i$ to be $l$ since we want to minimize each $c_ix_i$,\n",
    "\n",
    "For $c_i < 0$, we can choose $x_i = u$ to minimize $c_ix_i$,\n",
    "\n",
    "For $c_i = 0$, we can choose arbitrary $\\{ x_i \\mid l \\leq x_i \\leq u \\}$."
   ]
  },
  {
   "cell_type": "markdown",
   "metadata": {},
   "source": [
    "(c)\n",
    "\n",
    "Let $c_{[i]}$ denote the $i^{th}$ smallest element in c,\n",
    "\n",
    "If we assume there are $n$ smallest values in $c$, in other words there are n $c_{[1]}$ s, \n",
    "\n",
    "Then $p^* = \\sum_{i=1}^n \\frac{1}{n} c_{[1]} = c_{[1]}$ with all the corresponding $x_i = \\frac{1}{n}$ and other $x_j = 0$.\n",
    "\n",
    "If we change the constraints to $1^Tx \\leq 1$, $p^* = 0$ with all $x_i = 0$ if $c \\succeq 0$,\n",
    "\n",
    "If $c \\succeq 0$ doesn't hold, then $p^* = \\sum_{i=1}^n \\frac{1}{n} c_{[1]} = c_{[1]}$ which is the same as $1^Tx = 1$. "
   ]
  },
  {
   "cell_type": "markdown",
   "metadata": {},
   "source": [
    "## 4. Linear Program with $n$ Constraints"
   ]
  },
  {
   "cell_type": "markdown",
   "metadata": {},
   "source": [
    "The Lagrangian is $\\mathcal{L}(x,\\lambda) = c^Tx + d + \\lambda (Ax-b)$,\n",
    "\n",
    "$\\therefore \\nabla_x \\mathcal{L}(\\lambda) = c + A^T\\lambda = 0$,\n",
    "\n",
    "$\\begin{aligned}\\therefore A^T\\lambda &= -c\\\\\n",
    "\\lambda &= -A^{-T}c \\succeq 0\\\\\n",
    "\\therefore A^{-T}c &\\preceq 0\\\\\n",
    "\\end{aligned}$\n",
    "\n",
    "$\\therefore g(\\lambda) = -\\lambda^T A x + d + \\lambda^T A x - \\lambda^Tb = d - \\lambda^T b = c^T A^{-1} b + d$ which is not related to $\\lambda$ or $x$,\n",
    "\n",
    "Thus $p^* = g(\\lambda) = c^T A^{-1} b + d$ when $A^{-T}c \\preceq 0$ and when $A^{-T}c \\succ 0$, there is no such $\\lambda$ and $p^* = -\\infty$,\n",
    "\n",
    "$\\therefore p^* = \\begin{cases} c^T A^{-1} b + d &\\text{ when } A^{-T}c \\preceq 0\\\\\n",
    "-\\infty &\\text{otherwise}\n",
    "\\end{cases}$"
   ]
  },
  {
   "cell_type": "markdown",
   "metadata": {},
   "source": [
    "## 5. Analytic Centering"
   ]
  },
  {
   "cell_type": "markdown",
   "metadata": {},
   "source": [
    "(a)\n",
    "\n",
    "The domain is $\\{ x \\mid a_i^Tx < b_i \\text{ for } i = 1, \\cdots, n\\}$"
   ]
  },
  {
   "cell_type": "markdown",
   "metadata": {},
   "source": [
    "(b)\n",
    "\n",
    "The problem will become,\n",
    "$\\begin{aligned} \\text{minimize } &-\\sum_{i=1}^m \\log{y_i}, \\text{ for } i = 1,\\cdots,m\\\\\n",
    "\\text{subject to } & y = b - Ax\\\\\n",
    "\\end{aligned}$\n",
    "\n",
    "where $y = \\begin{bmatrix}y_1\\\\ \\vdots \\\\ y_m \\end{bmatrix}, b = \\begin{bmatrix}b_1\\\\ \\vdots \\\\ b_m \\end{bmatrix}, A = \\begin{bmatrix}a_1^T\\\\ \\vdots \\\\ a_m^T \\end{bmatrix}$"
   ]
  },
  {
   "cell_type": "markdown",
   "metadata": {},
   "source": [
    "(c)\n",
    "\n",
    "$\\mathcal{L}(x,\\nu) = -\\sum_{i=1}^m\\log{y_i} + \\nu^T (y+Ax-b)$\n",
    "\n",
    "To find the x that minimize $\\mathcal{L}(x,\\nu)$, we can take the first derivative and set it to 0,\n",
    "\n",
    "$\\nabla_{x_i}\\mathcal{L}(x,\\nu) = -\\left( \\sum_{j \\neq i}^m \\frac{1}{y_j} \\cdot 0 + \\frac{a_i}{y_i} \\right) + a_i^T\\nu_i = 0$\n",
    "\n",
    "$\\therefore \\text{The }y_i = \\frac{a_i}{a_i^T\\nu_i} \\text{ minimizes } \\nabla_{x_i}\\mathcal{L}(x,\\nu) \\text{ where }\\nu_i \\neq 0$\n",
    "\n",
    "$\\begin{aligned}\\therefore g(\\nu) &= \\sum_{i = 1}^m \\log{\\frac{a_i^T\\nu_i}{a_i}} + \\begin{bmatrix}\\nu_1 & \\cdots & \\nu_m \\end{bmatrix} \\left( \\begin{bmatrix}y_1\\\\ \\vdots \\\\ y_m\\end{bmatrix}+Ax-\\begin{bmatrix}b_1\\\\ \\vdots \\\\ b_m \\end{bmatrix} \\right)\\\\\n",
    "&= \\sum_{i = 1}^m \\log{\\nu_i} + \\sum_{i=1}^m \\nu_i y_i - \\nu^T b + \\nu^TAx\\\\\n",
    "&= \\sum_{i = 1}^m \\log{\\nu_i} + m - \\nu^T b + \\nu^TAx\n",
    "\\end{aligned}$\n",
    "\n",
    "$\\therefore g(\\nu)$ is valid iff $\\nu^TA = 0$, otherwise we can't find a minimised function over $\\nabla\\mathcal{L}(x,\\nu)$ and therefore $g(\\nu) = -\\infty$\n",
    "\n",
    "$\\therefore$ The dual function is $g(\\nu) = \\begin{cases} \\sum_{i = 1}^m \\log{\\nu_i} + m - \\nu^T b & \\text{, when } \\nu^TA = 0 \\text{ and } \\nu \\succ 0 \\\\ -\\infty & \\text{, otherwise}\\end{cases}$"
   ]
  },
  {
   "cell_type": "markdown",
   "metadata": {},
   "source": [
    "(d)\n",
    "\n",
    "Therefore the dual problem will be \n",
    "\n",
    "$\\begin{aligned}\\text{maximize } & \\sum_{i = 1}^m \\log{\\nu_i} + m - \\nu^T b\\\\\n",
    "\\text{subject to } & \\nu^TA = 0\\\\\n",
    "& \\nu \\succ 0\n",
    "\\end{aligned}$"
   ]
  },
  {
   "cell_type": "markdown",
   "metadata": {},
   "source": [
    "## 6. Supporting hyperplane interpretation of the KKT conditions"
   ]
  },
  {
   "cell_type": "markdown",
   "metadata": {},
   "source": [
    "Since $f_i$ are convex, let $x^*$ denotes the global optimal point,\n",
    "\n",
    "There is $f_i(y) \\geq f_i(x) + \\nabla f_i(x)^T (y-x)$,\n",
    "\n",
    "<!-- Since $x^*$ is global optima, there is $\\nabla f_i(x^*)^T(y-x^*) \\geq 0$ -->\n",
    "From the constraints we have $f_i(x) \\leq 0$,\n",
    "\n",
    "$\\begin{aligned} \\therefore f_i(y) &\\geq f_i(x) + \\nabla f_i(x)^T (y-x)\\\\\n",
    "0 &\\geq f_i(x) + \\nabla f_i(x)^T (y-x)\\\\\n",
    "f_i(x^*) + \\nabla f_i(x^*)^T (x-x^*) &\\leq 0\\\\\n",
    "\\end{aligned}$"
   ]
  },
  {
   "cell_type": "markdown",
   "metadata": {},
   "source": [
    "Since for each $i = 1, \\cdots, m$ there is $\\lambda_i^* \\geq 0$ and $f_i(x^*) + \\nabla f_i(x^*)^T (x-x^*) \\leq 0$,\n",
    "\n",
    "Thus we can deduce that $\\sum_{i = 1}^m \\lambda_i^* \\left( f_i(x^*) + \\nabla f_i(x^*)^T (x-x^*) \\right) \\leq 0$,\n",
    "\n",
    "$\\therefore \\sum_{i = 1}^m \\lambda_i^* f_i(x^*) + \\sum_{i = 1}^m \\lambda_i^* \\nabla f_i(x^*)^T (x-x^*) \\leq 0$,\n",
    "\n",
    "Since under KKT conditions $\\lambda_i^* f_i(x^*) = 0$,\n",
    "\n",
    "$\\therefore \\left( \\sum_{i = 1}^m \\lambda_i^* \\nabla f_i(x^*)^T \\right) (x-x^*) \\leq 0$,\n",
    "\n",
    "Since there also has $\\nabla f_0(x^*) + \\sum_{i = 1}^m \\lambda_i^* \\nabla f_i(x^*) = 0$,\n",
    "\n",
    "$\\therefore -f_0(x^*)^T(x-x^*) \\leq 0$,\n",
    "\n",
    "$\\therefore f_0(x^*)^T(x-x^*) \\geq 0$"
   ]
  }
 ],
 "metadata": {
  "interpreter": {
   "hash": "6b55f2c5758f94475f4f7183eca0917db64713a141a094f87423d7ec135e764d"
  },
  "kernelspec": {
   "display_name": "Python 3.7.6 ('base')",
   "language": "python",
   "name": "python3"
  },
  "language_info": {
   "codemirror_mode": {
    "name": "ipython",
    "version": 3
   },
   "file_extension": ".py",
   "mimetype": "text/x-python",
   "name": "python",
   "nbconvert_exporter": "python",
   "pygments_lexer": "ipython3",
   "version": "3.7.6"
  },
  "orig_nbformat": 4
 },
 "nbformat": 4,
 "nbformat_minor": 2
}
